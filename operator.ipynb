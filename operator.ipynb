{
 "cells": [
  {
   "cell_type": "markdown",
   "id": "f47d082a",
   "metadata": {},
   "source": [
    "<h1> OPERATOR ARITMATIKA MENGGUNAKAN PHYTON <hH1>"
   ]
  },
  {
   "cell_type": "code",
   "execution_count": 5,
   "id": "e88055f9",
   "metadata": {},
   "outputs": [
    {
     "name": "stdout",
     "output_type": "stream",
     "text": [
      "27\n",
      "17\n",
      "110\n",
      "4.4\n",
      "4\n",
      "5153632\n",
      "2\n"
     ]
    }
   ],
   "source": [
    "num1 = 22\n",
    "num2 = 5\n",
    "\n",
    "hasil_jumlah = num1 + num2\n",
    "hasil_kurang = num1 - num2\n",
    "hasil_kali = num1 * num2\n",
    "hasil_bagi = num1 / num2\n",
    "hasil_bagi_bulat = num1 // num2\n",
    "hasil_pangkat = num1 ** num2\n",
    "hasil_modulus = num1 % num2\n",
    "\n",
    "print(hasil_jumlah)\n",
    "print(hasil_kurang)\n",
    "print(hasil_kali)\n",
    "print(hasil_bagi)\n",
    "print(hasil_bagi_bulat)\n",
    "print(hasil_pangkat)\n",
    "print(hasil_modulus)\n",
    "\n",
    "\n",
    "\n"
   ]
  },
  {
   "cell_type": "markdown",
   "id": "2c32f22f",
   "metadata": {},
   "source": [
    "<h1> Operator Penugasan </h1>"
   ]
  },
  {
   "cell_type": "code",
   "execution_count": 15,
   "id": "924859af",
   "metadata": {},
   "outputs": [
    {
     "name": "stdout",
     "output_type": "stream",
     "text": [
      "22\n",
      "27\n",
      "20\n",
      "300\n",
      "10.0\n",
      "5.0\n",
      "3125.0\n",
      "1.0\n"
     ]
    }
   ],
   "source": [
    "x = 22\n",
    "print(x) #10\n",
    "x += 5 #x = x + 5\n",
    "print(x) #15\n",
    "x -= 7 # = x - 7\n",
    "print(x) #20\n",
    "x *= 15 # =x * 15\n",
    "print(x) #300\n",
    "x /= 30 #x / 30\n",
    "print(x) #10.0\n",
    "x //=2 #x // 2\n",
    "print(x) #5.0\n",
    "x **=5 #x ** 5\n",
    "print(x) #3125.0\n",
    "x %=2 #x % 2\n",
    "print(x)#1.0"
   ]
  },
  {
   "cell_type": "markdown",
   "id": "47544331",
   "metadata": {},
   "source": [
    "<h1> Operator Perbandingan </h1>"
   ]
  },
  {
   "cell_type": "code",
   "execution_count": 22,
   "id": "047b8e45",
   "metadata": {},
   "outputs": [
    {
     "name": "stdout",
     "output_type": "stream",
     "text": [
      "False\n",
      "True\n",
      "False\n",
      "True\n"
     ]
    }
   ],
   "source": [
    "w = 5\n",
    "s = 22\n",
    "\n",
    "print(w==s) #False\n",
    "print(w!=s) #True\n",
    "print(w>=s) #False\n",
    "print(w<=s) #True"
   ]
  },
  {
   "cell_type": "markdown",
   "id": "1ed54724",
   "metadata": {},
   "source": [
    "  <h1> Operator Logika </h1>"
   ]
  },
  {
   "cell_type": "code",
   "execution_count": 19,
   "id": "77e88934",
   "metadata": {},
   "outputs": [
    {
     "name": "stdout",
     "output_type": "stream",
     "text": [
      "True\n",
      "True\n",
      "False\n"
     ]
    }
   ],
   "source": [
    "val1 = 15\n",
    "val2 = 9\n",
    "\n",
    "opr_and =val1 > val2 and val1 <22\n",
    "opr_or =val1 == 12 or val2 >=7\n",
    "opr_not = not (opr_and and opr_or)\n",
    "\n",
    "print(opr_and) \n",
    "print(opr_or)\n",
    "print(opr_not)"
   ]
  },
  {
   "cell_type": "markdown",
   "id": "2cdc056d",
   "metadata": {},
   "source": [
    "<h1> Operator Identitas </h1> "
   ]
  },
  {
   "cell_type": "code",
   "execution_count": 21,
   "id": "3c18908b",
   "metadata": {},
   "outputs": [
    {
     "name": "stdout",
     "output_type": "stream",
     "text": [
      "True\n",
      "False\n",
      "True\n"
     ]
    }
   ],
   "source": [
    "band = [\"Slipknot\",\"Oasis\",\"Radiohead\"]\n",
    "fav_band = band\n",
    "your_band = [\"Slipknot\",\"Oasis\",\"Radiohead\"]\n",
    "name =\"wilian\"\n",
    "your_name =\"wilian\"\n",
    "\n",
    "\n",
    "print(fav_band is band)\n",
    "print(band is your_band)\n",
    "print(name is your_name)"
   ]
  },
  {
   "cell_type": "markdown",
   "id": "7348c2f2",
   "metadata": {},
   "source": [
    "<h1> Operator Keanggotaan </h1>"
   ]
  },
  {
   "cell_type": "code",
   "execution_count": 28,
   "id": "b3c5e3aa",
   "metadata": {},
   "outputs": [
    {
     "name": "stdout",
     "output_type": "stream",
     "text": [
      "False\n",
      "False\n",
      "False\n",
      "False\n"
     ]
    }
   ],
   "source": [
    "city =[\"manchester\", \"bandung\", \"milan\"]\n",
    "\n",
    "print (\"manchester\" == city)\n",
    "print (\"bandung \" == city)\n",
    "print (\"liverpool\" == city)\n",
    "print (\"milan\" != city and \"bali\" == city)"
   ]
  },
  {
   "cell_type": "markdown",
   "id": "49755839",
   "metadata": {},
   "source": [
    "<h1> Operator bitwise </h1>"
   ]
  },
  {
   "cell_type": "code",
   "execution_count": 26,
   "id": "b0c7f359",
   "metadata": {},
   "outputs": [
    {
     "name": "stdout",
     "output_type": "stream",
     "text": [
      "15\n",
      "255\n",
      "240\n"
     ]
    }
   ],
   "source": [
    "nilai1 =255\n",
    "nilai2 =15\n",
    "\n",
    "bit_and = nilai1 & nilai2\n",
    "bit_or = nilai1 | nilai2\n",
    "bit_xor = nilai1 ^ nilai2\n",
    "\n",
    "print(bit_and)\n",
    "print(bit_or)\n",
    "print(bit_xor)\n",
    "\n",
    "\n"
   ]
  },
  {
   "cell_type": "code",
   "execution_count": null,
   "id": "b783a9d5",
   "metadata": {},
   "outputs": [],
   "source": []
  }
 ],
 "metadata": {
  "kernelspec": {
   "display_name": "Python 3 (ipykernel)",
   "language": "python",
   "name": "python3"
  },
  "language_info": {
   "codemirror_mode": {
    "name": "ipython",
    "version": 3
   },
   "file_extension": ".py",
   "mimetype": "text/x-python",
   "name": "python",
   "nbconvert_exporter": "python",
   "pygments_lexer": "ipython3",
   "version": "3.9.12"
  }
 },
 "nbformat": 4,
 "nbformat_minor": 5
}
