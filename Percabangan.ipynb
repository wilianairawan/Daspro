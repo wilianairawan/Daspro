{
 "cells": [
  {
   "cell_type": "code",
   "execution_count": 11,
   "id": "d658e584",
   "metadata": {},
   "outputs": [
    {
     "name": "stdout",
     "output_type": "stream",
     "text": [
      "10 adalah bilangan genap\n"
     ]
    }
   ],
   "source": [
    "#menentukan nilai ganjil genap\n",
    "nilai = 10\n",
    "sisa_bagi = nilai %2\n",
    "if  sisa_bagi == 0:\n",
    "    print (f\"{nilai} adalah bilangan genap\")\n",
    "else :\n",
    "    print (f\"{nilai} adalah bilangan ganil\")\n",
    "    "
   ]
  },
  {
   "cell_type": "code",
   "execution_count": 28,
   "id": "f2f69068",
   "metadata": {},
   "outputs": [
    {
     "name": "stdout",
     "output_type": "stream",
     "text": [
      "isikan nilai 49\n",
      "49 = E\n"
     ]
    }
   ],
   "source": [
    "# konversi nilai \n",
    "#0 - 49 => E\n",
    "#50 - 59 => D\n",
    "#60 - 69 => C\n",
    "#70 - 84 => B\n",
    "#85 - 100 => A\n",
    "\n",
    "nilai = int(input(\"isikan nilai \"))\n",
    "if nilai  >= 85 and nilai <= 100:\n",
    "    print(f\"{nilai} = A\")\n",
    "elif nilai >= 70 and nilai <= 84:\n",
    "    print(f\"{nilai} = B\")\n",
    "elif nilai >= 60 and nilai <= 69:\n",
    "    print(f\"{nilai} = C\")\n",
    "elif nilai >=50 and nilai <=59:\n",
    "    print(f\"{nilai} = D\")\n",
    "elif nilai >=0 and nilai <= 49:\n",
    "    print(f\"{nilai} = E\")\n",
    "\n",
    "            "
   ]
  },
  {
   "cell_type": "code",
   "execution_count": 36,
   "id": "69e66d8c",
   "metadata": {},
   "outputs": [
    {
     "name": "stdout",
     "output_type": "stream",
     "text": [
      "masukan usernameadmin\n",
      "masukan passwordadmin\n",
      "selamat datang admin\n"
     ]
    }
   ],
   "source": [
    "#jika username salah => username anda salah\n",
    "#jika password salah => password anda salah\n",
    "#jika keduanya salah => username dan passwordd anda salah\n",
    "#jika keduanya benar => Selamat datang {username}\n",
    "#username = admin\n",
    "#password = admin \n",
    "\n",
    "\n",
    "\n",
    "\n",
    "username = input (\"masukan username\")\n",
    "password = input (\"masukan password\")\n",
    "\n",
    "if username == \"admin\":\n",
    "    if password ==\"admin\":\n",
    "        print (f\"selamat datang {username}\")\n",
    "    else:\n",
    "        print(\"password anda salah\")\n",
    "else:\n",
    "    if password ==\"admin\":\n",
    "        print (\"username anda salah\")\n",
    "    else:\n",
    "        print(\"username dan password anda salah\")\n",
    "        \n"
   ]
  },
  {
   "cell_type": "markdown",
   "id": "6a4ad83c",
   "metadata": {},
   "source": [
    "<h1> Tugas Detective conan </h1>"
   ]
  },
  {
   "cell_type": "code",
   "execution_count": 105,
   "id": "92bf1370",
   "metadata": {},
   "outputs": [
    {
     "name": "stdout",
     "output_type": "stream",
     "text": [
      "masukan namawili\n",
      "masukan umur50\n",
      "masukan rumahnevada\n",
      "masukan jumlah uang1000000\n",
      "wiliadalah \n",
      "wiliTidak Mencurigakan\n"
     ]
    }
   ],
   "source": [
    "nama =input (\"masukan nama\")\n",
    "umur =int(input(\"masukan umur\"))\n",
    "rumah =input (\"masukan rumah\")\n",
    "uang =int(input (\"masukan jumlah uang\"))\n",
    "\n",
    "pangkat =\"\"\n",
    "\n",
    "if umur >40:\n",
    "    if rumah ==\"nevada\" or rumah ==\"new york\" or rumah ==\"havana\":\n",
    "        if uang >10000000:\n",
    "            pangkat =\"Don\"\n",
    "        print(f\"{nama}adalah {pangkat}\")\n",
    "elif umur >25 and umur <40:\n",
    "    if rumah ==\"manhattan\" or rumah ==\"new jersey\" or rumah == \"havana\":\n",
    "        if uang >1000000 and uang <200000:\n",
    "            pangkat == \"Underboss\"\n",
    "        print(f\"{nama}adalah {pangkat}\")\n",
    "elif umur >18 and umur <25:\n",
    "    if rumah ==\"california\" or rumah ==\"detroit\" or rumah ==\"boston\":\n",
    "        if uang >1000000 and uang <500000:\n",
    "            pangkat == \"Capo\"\n",
    "if pangkat !=\"\":\n",
    "    print(f\"{nama} kemungkinan adalah mafia yang di cari dengan pangkat {pangkat}\")        \n",
    "else:\n",
    "    print(f\"{nama}Tidak Mencurigakan\")"
   ]
  },
  {
   "cell_type": "code",
   "execution_count": null,
   "id": "dab0b562",
   "metadata": {},
   "outputs": [],
   "source": []
  },
  {
   "cell_type": "code",
   "execution_count": null,
   "id": "556d1dc9",
   "metadata": {},
   "outputs": [],
   "source": []
  }
 ],
 "metadata": {
  "kernelspec": {
   "display_name": "Python 3 (ipykernel)",
   "language": "python",
   "name": "python3"
  },
  "language_info": {
   "codemirror_mode": {
    "name": "ipython",
    "version": 3
   },
   "file_extension": ".py",
   "mimetype": "text/x-python",
   "name": "python",
   "nbconvert_exporter": "python",
   "pygments_lexer": "ipython3",
   "version": "3.9.12"
  }
 },
 "nbformat": 4,
 "nbformat_minor": 5
}
