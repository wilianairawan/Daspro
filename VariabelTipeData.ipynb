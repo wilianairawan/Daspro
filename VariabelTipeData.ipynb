{
 "cells": [
  {
   "cell_type": "markdown",
   "id": "fe97b8d5",
   "metadata": {},
   "source": [
    "<h1>Variabel dan tipe data</h1><hr>\n",
    "Tipe data pada Python adalah\n",
    "<ol>\n",
    "    <li>Float - (float)</li>\n",
    "    <li>String - (str)</li>\n",
    "    <li>boolean - (bool)</li>\n",
    "    <li>Integer - (int)</li>\n",
    "</ol><hr>\n",
    "Aturan penamaan variabel\n",
    "<ul>\n",
    "    <li>Tidak boleh menggunakan spasi</li>\n",
    "    <li>Bersifat Case Sensitip=> A != a </li>\n",
    "    <li>Terdiri Dari hruf, Angka, dan Karakter _ (underscore)</li>\n",
    "    <li>Diawali Underscore atau huruf</li>\n",
    "    <li>Tidak boleh menggunakan Reserved Keyword </li>\n",
    "\n",
    "</ul>"
   ]
  },
  {
   "cell_type": "code",
   "execution_count": 5,
   "id": "19814cef",
   "metadata": {
    "scrolled": true
   },
   "outputs": [
    {
     "name": "stdout",
     "output_type": "stream",
     "text": [
      "<class 'int'>\n",
      "<class 'float'>\n",
      "<class 'str'>\n",
      "<class 'bool'>\n"
     ]
    }
   ],
   "source": [
    "data_integer = 22\n",
    "data_float = 75.5\n",
    "data_string =\"2\"\n",
    "data_boolean =True\n",
    "\n",
    "data_string\n",
    "print(type(data_integer))\n",
    "print(type(data_float))\n",
    "print(type(data_string))\n",
    "print(type(data_boolean))"
   ]
  },
  {
   "cell_type": "markdown",
   "id": "82fd8298",
   "metadata": {},
   "source": [
    "<h3>Konversi Tipe Data dari Integer Ke (String, Float, Boolean)</h3> "
   ]
  },
  {
   "cell_type": "code",
   "execution_count": 8,
   "id": "a90cc68a",
   "metadata": {},
   "outputs": [
    {
     "name": "stdout",
     "output_type": "stream",
     "text": [
      "isikan Bilangan 122\n",
      "isikan bilangan 25\n",
      "27\n"
     ]
    }
   ],
   "source": [
    "bil1 = input (\"isikan Bilangan 1\")\n",
    "bil2 = input (\"isikan bilangan 2\")\n",
    "hasil = int (bil1) + int(bil2)\n",
    "print(hasil)"
   ]
  },
  {
   "cell_type": "code",
   "execution_count": 22,
   "id": "959ddb32",
   "metadata": {},
   "outputs": [
    {
     "name": "stdout",
     "output_type": "stream",
     "text": [
      "2\n",
      "75\n",
      "1\n",
      "<class 'int'>\n",
      "<class 'int'>\n",
      "<class 'int'>\n"
     ]
    }
   ],
   "source": [
    "string_to_integer=int (data_string)\n",
    "float_to_integer=int (data_float)\n",
    "boolean_to_integer=int (data_boolean)\n",
    "\n",
    "print(string_to_integer)\n",
    "print(float_to_integer)\n",
    "print(bool_to_integer)\n",
    "\n",
    "print(type(string_to_integer))\n",
    "print(type(float_to_integer))\n",
    "print(type(bool_to_integer))\n"
   ]
  },
  {
   "cell_type": "code",
   "execution_count": 27,
   "id": "2df61a8f",
   "metadata": {},
   "outputs": [
    {
     "name": "stdout",
     "output_type": "stream",
     "text": [
      "22\n",
      "75.5\n",
      "True\n",
      "<class 'str'>\n",
      "<class 'str'>\n",
      "<class 'str'>\n"
     ]
    }
   ],
   "source": [
    "integer_to_string =str (data_integer)\n",
    "float_to_string =str (data_float)\n",
    "boolean_to_String =str (data_boolean)\n",
    "\n",
    "print(integer_to_string)\n",
    "print(float_to_string)\n",
    "print(boolean_to_String)\n",
    "\n",
    "print(type(integer_to_string))\n",
    "print(type(float_to_string))\n",
    "print(type(boolean_to_String))\n"
   ]
  },
  {
   "cell_type": "code",
   "execution_count": 28,
   "id": "07bbd2ea",
   "metadata": {},
   "outputs": [
    {
     "name": "stdout",
     "output_type": "stream",
     "text": [
      "22.0\n",
      "2.0\n",
      "1.0\n",
      "<class 'float'>\n",
      "<class 'float'>\n",
      "<class 'float'>\n"
     ]
    }
   ],
   "source": [
    "integer_to_float =float (data_integer)\n",
    "string_to_float =float (data_string)\n",
    "boolean_to_float=float (data_boolean)\n",
    "\n",
    "print(integer_to_float)\n",
    "print(string_to_float)\n",
    "print(boolean_to_float)\n",
    "\n",
    "print(type(integer_to_float))\n",
    "print(type(string_to_float))\n",
    "print(type(boolean_to_float))"
   ]
  },
  {
   "cell_type": "code",
   "execution_count": 33,
   "id": "d792d114",
   "metadata": {},
   "outputs": [
    {
     "name": "stdout",
     "output_type": "stream",
     "text": [
      "True\n",
      "True\n",
      "True\n",
      "<class 'bool'>\n",
      "<class 'bool'>\n",
      "<class 'bool'>\n"
     ]
    }
   ],
   "source": [
    "integer_to_boolean =bool (data_integer)\n",
    "string_to_booloean =bool (data_string)\n",
    "float_to_boolean =bool (data_float)\n",
    "\n",
    "print(integer_to_boolean)\n",
    "print(string_to_booloean)\n",
    "print(float_to_boolean)\n",
    "\n",
    "print(type(integer_to_boolean))\n",
    "print(type(string_to_booloean))\n",
    "print(type(float_to_boolean))"
   ]
  }
 ],
 "metadata": {
  "kernelspec": {
   "display_name": "Python 3 (ipykernel)",
   "language": "python",
   "name": "python3"
  },
  "language_info": {
   "codemirror_mode": {
    "name": "ipython",
    "version": 3
   },
   "file_extension": ".py",
   "mimetype": "text/x-python",
   "name": "python",
   "nbconvert_exporter": "python",
   "pygments_lexer": "ipython3",
   "version": "3.9.12"
  }
 },
 "nbformat": 4,
 "nbformat_minor": 5
}
