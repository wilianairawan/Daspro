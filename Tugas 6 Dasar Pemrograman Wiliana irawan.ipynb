{
 "cells": [
  {
   "cell_type": "code",
   "execution_count": 1,
   "id": "4aad09af-4f15-41fb-a3a2-c9009b4a781a",
   "metadata": {},
   "outputs": [
    {
     "name": "stdin",
     "output_type": "stream",
     "text": [
      "Masukkan nilai coding:  85\n",
      "Masukkan nilai interview (A/B/C/D/E):  B\n"
     ]
    },
    {
     "name": "stdout",
     "output_type": "stream",
     "text": [
      "\n",
      "\"Selamat Kamu Berhasil Menjadi Calon Programmer\"\n"
     ]
    }
   ],
   "source": [
    "#Sistem  penerimaan calon Programmer dengan input(Nilai coding),(Nilai Interview).\n",
    "\n",
    "# Mulai dengan mengambil nilai coding dan interview dari calon programmer\n",
    "nilai_coding = int(input(\"Masukkan nilai coding: \"))\n",
    "nilai_interview = input(\"Masukkan nilai interview (A/B/C/D/E): \").upper()\n",
    "\n",
    "# Dapatkan hasil dari nilai coding\n",
    "if nilai_coding > 80:\n",
    "    hasil_coding = \"LOLOS\"\n",
    "elif nilai_coding >= 60:\n",
    "    hasil_coding = \"DIPERTIMBANGKAN\"\n",
    "else:\n",
    "    hasil_coding = \"GAGAL\"\n",
    "\n",
    "# Dapatkan hasil dari nilai interview\n",
    "if nilai_interview == \"A\" or nilai_interview == \"B\":\n",
    "    hasil_interview = \"LOLOS\"\n",
    "else:\n",
    "    hasil_interview = \"GAGAL\"\n",
    "\n",
    "# Tampilkan hasil penerimaan calon programmer\n",
    "if hasil_coding == \"LOLOS\" and hasil_interview == \"LOLOS\" or hasil_coding == \"DIPERTIMBANGKAN\" and hasil_interview == \"LOLOS\":\n",
    "    print('\\n\"Selamat Kamu Berhasil Menjadi Calon Programmer\"')\n",
    "else:\n",
    "    print('\\n\"Maaf Kamu Belum Berhasil Menjadi Calon Programmer\"')"
   ]
  },
  {
   "cell_type": "code",
   "execution_count": null,
   "id": "ef075600-9ed2-4352-91b1-1a14aaffa1e7",
   "metadata": {},
   "outputs": [],
   "source": [
    "#Program Pengecekan No Punggung PERSEGI FC\n",
    "\n",
    "no_punggung = int(input(\"Masukkan nomor punggung pemain: \"))\n",
    "\n",
    "print(\"\\n========PROGRAM PENGECEKAN NOMER PUNGGUNG PEMAIN PERSEGI FC========\")\n",
    "print(\"\")\n",
    "\n",
    "if no_punggung >= 0 and no_punggung <= 100:  # Memastikan nomor_punggung berada dalam rentang yang valid\n",
    "    if no_punggung % 2 == 0:  # Mencari bilangan genap\n",
    "        if no_punggung > 50 and no_punggung <= 100:\n",
    "            print(\"Nomor punggung\", no_punggung, \"dapat digunakan untuk posisi 'captain team'.\")\n",
    "        else:\n",
    "            print(\"Nomor punggung\", no_punggung, \"dapat digunakan untuk posisi 'target attacker'.\")\n",
    "    else:\n",
    "        if no_punggung > 90:\n",
    "            print(\"Nomor punggung\", no_punggung, \"dapat digunakan untuk posisi 'Playmaker'.\")\n",
    "        elif nomor_punggung % 3 == 0 or nomor_punggung % 5 == 0: #bilangan keliapatan 3 dan 5\n",
    "            print(\"Nomor punggung\", no_punggung, \"dapat digunakan untuk posisi 'keeper'.\")\n",
    "        else:\n",
    "            print(\"Nomor punggung\", no_punggung, \"dapat digunakan untuk posisi 'defender'.\")\n",
    "else:\n",
    "    print(\"Nomor punggung harus berada dalam rentang 0-100.\")"
   ]
  }
 ],
 "metadata": {
  "kernelspec": {
   "display_name": "Python 3 (ipykernel)",
   "language": "python",
   "name": "python3"
  },
  "language_info": {
   "codemirror_mode": {
    "name": "ipython",
    "version": 3
   },
   "file_extension": ".py",
   "mimetype": "text/x-python",
   "name": "python",
   "nbconvert_exporter": "python",
   "pygments_lexer": "ipython3",
   "version": "3.11.7"
  }
 },
 "nbformat": 4,
 "nbformat_minor": 5
}
