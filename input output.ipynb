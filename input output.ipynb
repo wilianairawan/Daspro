{
 "cells": [
  {
   "cell_type": "markdown",
   "id": "e0fc6c5f",
   "metadata": {},
   "source": [
    "<h1> Nilai Statis dan Dinamis </h1>"
   ]
  },
  {
   "cell_type": "markdown",
   "id": "a1dfafbc",
   "metadata": {},
   "source": [
    "<h2> input </h2>"
   ]
  },
  {
   "cell_type": "code",
   "execution_count": 13,
   "id": "f62a3956",
   "metadata": {},
   "outputs": [
    {
     "name": "stdout",
     "output_type": "stream",
     "text": [
      "insert Your name Wilian\n",
      "insert Your Middle name Hasan\n",
      "insert Your Last name Irawan\n",
      "hello Wilian Hasan Irawan !!\n"
     ]
    }
   ],
   "source": [
    "first_name = input (\"insert Your name \")\n",
    "middle_name = input (\"insert Your Middle name \")\n",
    "last_name = input (\"insert Your Last name \")\n",
    "\n",
    "print(\"hello\", first_name, middle_name, last_name, \"!!\")\n",
    "\n"
   ]
  },
  {
   "cell_type": "markdown",
   "id": "a99fb8c1",
   "metadata": {},
   "source": [
    "<h2> luas dan keliling Persegi </h2>"
   ]
  },
  {
   "cell_type": "code",
   "execution_count": 12,
   "id": "a21b086e",
   "metadata": {},
   "outputs": [
    {
     "name": "stdout",
     "output_type": "stream",
     "text": [
      "masukan Panjang 5\n",
      "masukan Lebar 4\n",
      "luas = 20\n",
      "keliling = 18\n"
     ]
    }
   ],
   "source": [
    "#luas => p*l\n",
    "#keliling => 2 * (p+l)\n",
    "\n",
    "panjang =input (\"masukan Panjang \")\n",
    "lebar =input (\"masukan Lebar \")\n",
    "Luas =int (panjang) * int(lebar)\n",
    "keliling = 2 * (int (panjang) + int (lebar))\n",
    "\n",
    "print(\"luas =\", Luas)\n",
    "print(\"keliling =\", keliling)"
   ]
  },
  {
   "cell_type": "markdown",
   "id": "11d3d9a4",
   "metadata": {},
   "source": [
    "<h2> Output Separator</h2>"
   ]
  },
  {
   "cell_type": "code",
   "execution_count": 23,
   "id": "9f84688b",
   "metadata": {},
   "outputs": [
    {
     "name": "stdout",
     "output_type": "stream",
     "text": [
      "5_juli_2022\n",
      "5-juli-2022\n",
      "5\n",
      "juli\n",
      "2022\n"
     ]
    }
   ],
   "source": [
    "print(\"5\", \"juli\", \"2022\", sep='_')\n",
    "print(\"5\", \"juli\", \"2022\", sep='-')\n",
    "print(\"5\", \"juli\", \"2022\", sep= '\\n')\n",
    "\n",
    "\n",
    "\n",
    "\n",
    "\n"
   ]
  },
  {
   "cell_type": "code",
   "execution_count": 26,
   "id": "791ba87b",
   "metadata": {},
   "outputs": [
    {
     "name": "stdout",
     "output_type": "stream",
     "text": [
      "nama-nama bulan Januari, February\n",
      "nama-nama bulan February, Januari\n",
      "nama-nama bulan Januari,February,Maret\n"
     ]
    }
   ],
   "source": [
    "bulan1= \"Januari\"\n",
    "bulan2= \"February\"\n",
    "bulan3= \"Maret\"\n",
    "\n",
    "print (\"nama-nama bulan {0}, {1}\".format(bulan1,bulan2))\n",
    "print (\"nama-nama bulan {1}, {0}\".format(bulan1,bulan2))\n",
    "print (\"nama-nama bulan {0},{1},{2}\".format(bulan1,bulan2,bulan3))"
   ]
  },
  {
   "cell_type": "code",
   "execution_count": 36,
   "id": "04deb961",
   "metadata": {},
   "outputs": [
    {
     "name": "stdout",
     "output_type": "stream",
     "text": [
      "u\n",
      "P\n",
      "universitas\n",
      "Nusa Putra\n",
      "Putra\n",
      "artuP asuN satisrevinu\n"
     ]
    }
   ],
   "source": [
    "kampus =\"universitas Nusa Putra\"\n",
    "print(kampus[0])#u\n",
    "print (kampus[-5])#p\n",
    "\n",
    "print (kampus[0:11])\n",
    "print (kampus[12:])\n",
    "print (kampus[-5:])\n",
    "print (kampus[::-1])\n"
   ]
  },
  {
   "cell_type": "markdown",
   "id": "1f9f8a61",
   "metadata": {},
   "source": [
    "<h2> Interpolasi Mengunakan F-string</h2>"
   ]
  },
  {
   "cell_type": "code",
   "execution_count": 47,
   "id": "ac5fd236",
   "metadata": {},
   "outputs": [
    {
     "name": "stdout",
     "output_type": "stream",
     "text": [
      "luas persegi = 110\n",
      "keliling persegi = 12\n"
     ]
    }
   ],
   "source": [
    "p = 5\n",
    "l = 22\n",
    "\n",
    "print(f'luas persegi = {l*p}')\n",
    "print(f'keliling persegi = {2 *(p+1)}')      "
   ]
  },
  {
   "cell_type": "code",
   "execution_count": 70,
   "id": "f0e275ff",
   "metadata": {},
   "outputs": [
    {
     "name": "stdout",
     "output_type": "stream",
     "text": [
      "['ANDRI', 'BUDI', 'JAMAL']\n",
      "ANDRI@BUDI@JAMAL\n"
     ]
    }
   ],
   "source": [
    "nama_siswa =\"andri,budi,jamal\"\n",
    "nama_siswa = nama_siswa.upper()\n",
    "print (nama_siswa.split(','))\n",
    "print ('@'.join(nama_siswa.split(',')))"
   ]
  },
  {
   "cell_type": "code",
   "execution_count": 72,
   "id": "9b84e0be",
   "metadata": {},
   "outputs": [
    {
     "name": "stdout",
     "output_type": "stream",
     "text": [
      "masukan nama :wiliana irawan\n",
      "masukan tanggal: 5 juli 2003\n",
      "nama anda = wiliana irawan\n",
      "tanggal lahir =['5 juli 2003']\n",
      "tanggal = 5\n",
      "bulan =  \n",
      "tahun = j\n"
     ]
    },
    {
     "ename": "IndexError",
     "evalue": "list index out of range",
     "output_type": "error",
     "traceback": [
      "\u001b[1;31m---------------------------------------------------------------------------\u001b[0m",
      "\u001b[1;31mIndexError\u001b[0m                                Traceback (most recent call last)",
      "Input \u001b[1;32mIn [72]\u001b[0m, in \u001b[0;36m<cell line: 11>\u001b[1;34m()\u001b[0m\n\u001b[0;32m      9\u001b[0m \u001b[38;5;28mprint\u001b[39m (\u001b[38;5;124mf\u001b[39m\u001b[38;5;124m\"\u001b[39m\u001b[38;5;124mbulan = \u001b[39m\u001b[38;5;132;01m{\u001b[39;00mtgl_lahir[\u001b[38;5;241m1\u001b[39m]\u001b[38;5;132;01m}\u001b[39;00m\u001b[38;5;124m\"\u001b[39m)\n\u001b[0;32m     10\u001b[0m \u001b[38;5;28mprint\u001b[39m (\u001b[38;5;124mf\u001b[39m\u001b[38;5;124m\"\u001b[39m\u001b[38;5;124mtahun = \u001b[39m\u001b[38;5;132;01m{\u001b[39;00mtgl_lahir[\u001b[38;5;241m2\u001b[39m]\u001b[38;5;132;01m}\u001b[39;00m\u001b[38;5;124m\"\u001b[39m)\n\u001b[1;32m---> 11\u001b[0m \u001b[38;5;28mprint\u001b[39m (\u001b[38;5;124mf\u001b[39m\u001b[38;5;124m\"\u001b[39m\u001b[38;5;124minisial = \u001b[39m\u001b[38;5;132;01m{\u001b[39;00mnamas[\u001b[38;5;241m0\u001b[39m][\u001b[38;5;241m0\u001b[39m]\u001b[38;5;132;01m}\u001b[39;00m\u001b[38;5;132;01m{\u001b[39;00mnamas[\u001b[38;5;241m1\u001b[39m][\u001b[38;5;241m0\u001b[39m]\u001b[38;5;132;01m}\u001b[39;00m\u001b[38;5;132;01m{\u001b[39;00mnamas[\u001b[38;5;241m3\u001b[39m][\u001b[38;5;241m0\u001b[39m]\u001b[38;5;132;01m}\u001b[39;00m\u001b[38;5;124m\"\u001b[39m)\n",
      "\u001b[1;31mIndexError\u001b[0m: list index out of range"
     ]
    }
   ],
   "source": [
    "nama = input(\"masukan nama :\")\n",
    "tgl_lahir=input(\"masukan tanggal: \")\n",
    "tgls = tgl_lahir.split('/')\n",
    "namas =nama.split()\n",
    "\n",
    "print (f\"nama anda = {nama}\")\n",
    "print (f\"tanggal lahir ={tgls}\")\n",
    "print (f\"tanggal = {tgl_lahir[0]}\")\n",
    "print (f\"bulan = {tgl_lahir[1]}\")\n",
    "print (f\"tahun = {tgl_lahir[2]}\")\n",
    "print (f\"inisial = {namas[0][0]}{namas[1][0]}{namas[3][0]}\")"
   ]
  },
  {
   "cell_type": "code",
   "execution_count": null,
   "id": "9475f1e5",
   "metadata": {},
   "outputs": [],
   "source": []
  }
 ],
 "metadata": {
  "kernelspec": {
   "display_name": "Python 3 (ipykernel)",
   "language": "python",
   "name": "python3"
  },
  "language_info": {
   "codemirror_mode": {
    "name": "ipython",
    "version": 3
   },
   "file_extension": ".py",
   "mimetype": "text/x-python",
   "name": "python",
   "nbconvert_exporter": "python",
   "pygments_lexer": "ipython3",
   "version": "3.9.12"
  }
 },
 "nbformat": 4,
 "nbformat_minor": 5
}
